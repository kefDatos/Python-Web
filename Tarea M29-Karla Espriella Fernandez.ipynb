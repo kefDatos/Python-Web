{
 "cells": [
  {
   "cell_type": "code",
   "execution_count": 3,
   "id": "670f869f",
   "metadata": {},
   "outputs": [
    {
     "name": "stdout",
     "output_type": "stream",
     "text": [
      "200\n",
      "#search\n",
      "https://github.com/metmuseum/openaccess\n",
      "https://www.metmuseum.org/information/terms-and-conditions\n",
      "https://www.metmuseum.org\n",
      "https://creativecommons.org/publicdomain/zero/1.0/\n",
      "#objects\n",
      "#object\n",
      "#departments\n",
      "#search\n",
      "https://pages.github.com\n",
      "['News\\nchronological archives', 'Convention reports\\nchronological archives', 'Newsfeed', 'Interest\\nchronological archives', 'Press Releases\\nchronological archives', 'Features\\nchronological archives', 'Reviews\\nalphabetical archives', 'Columns\\nchronological archives', 'Newtype...\\n          chronological archives', 'Everything\\nchronological archives', 'Anime Spotlight', 'Spring 2025 Preview Guide', 'Daily Streaming Reviews', 'Anime', 'Manga', 'People', 'Releases', 'Companies', 'Lexicon', 'Tools', 'Forum Categories', 'Forums', 'Forum Information', 'Public', 'Subscribers', 'Personal', 'Help', 'Encyclopedia API', '1. Reports', '2. Anime/Manga Details', '2a. Batching', 'Terms of Service', 'Usage Limits', 'Whoever Steals This Book Light Novel Review', 'The Apothecary Diaries Goes All-Out at Ginza Exhibition', 'Rusty Rabbit Giveaway', 'Promise of Wizard Anime Series Review', 'This Week in Anime - Love in Another World', 'Kanan-sama wa Akumade Choroi Manga Listed With 2026 TV Anime', 'Jujutsu Kaisen Hidden Inventory, Shibuya Incident [Limited Edition] Blu-ray + DVD Anime Review', 'Answerman - Why is There an Overlap Between Moe and the Alt-Right?', \"The First SLAM DUNK Collector's Edition 4K UHD + Blu-ray Giveaway WINNER\", 'Lunar Remastered Collection', 'Bushiroad Expo 2025 Brings Weiß Schwarz TCG, Hunter x Hunter Nen x Impact Demo, More to Mumbai Comic Con', 'Unnamed Memory Act.2 Anime Series Review', 'Mumbai Comic Con Hosts Live One Piece Voice Acting Performance by Kappei Yamaguchi and Hiroaki Hirata']\n",
      "{'header-buttonuser', 'middle-area', 'category-linecolumnt-this-week-in-anime', 'register', 'righthalf', 'category-linenewst-news', 'close', 'actionablelogo', 'clear', 'oneline', 'category-lineviewst-feature', 'aboutmenu', 't-newtype', 'heraldboxasidenewst-news', 'images-officon', 'heraldboxasideviewst-feature', 'open-preferences', 'heraldboxasidecolumnt-answerman', 'subsections-wrapper', 'pitch', 'ENCYC', 'categoryviewst-feature', 'reminderinfobox-hidden', 'actionablesocials', 'minimize-onicon', 'password-reminder', 'stext', 'encyc', 'thumbnaillazyload', 'categorynewst-news', 'report_button', 'categorycolumnt-answerman', 'search', 'icon', 'grid-viewthumb-view', 'lefthalf', 'viewsmenu', 'actionableshort-logo', 'rounded-textbox', 'header-buttonsearch', 'category-linecont-convention', 'views', 'loginmenu', 'sections', 'heraldboxcont-convention', 'topgutter', 'header-buttontwitter', 'herald-boxes', 'submit', 'blockregister', 'heading', 'categorycontestt-giveaway', 'block-heading', 'header-buttonbluesky', 'categoryreviewst-review', 'search-suggest', 'actionableedition', 'colspan1of2', 'categorycolumnt-this-week-in-anime', 'about', 'subsections', 'selected', 'interactive', 'actionable', 'easyread-style-sheet', 'open-preferencesicon', 'header-buttonyoutube', 'not_recent', 'leftsidegutter', 'header-buttontiktok', 'subtypes', 'newanimemenu', 'hook', 'header-buttonfacebook', 'actionablehamburger', 'categoryreviewst-game-review', 'categorycont-convention', 'wrap', 'topics', 'heraldboxasidecont-convention', 'iabtop', 'images-onicon', 'category-linereviewst-review', 'maincontentencyc', 'login_register', 'text-zoneeasyread-width', 'GB', 'top-area', 'archives', 'mymenu', 'reminder-close-options', 'actionablebuttons', 'or-divider', 'same-width-as-main', 'text', 'snippet', 'bottomgutter', 'heraldboxasidecolumnt-this-week-in-anime', 'user_menulogin_register', 'heraldboxasidecontestt-giveaway', 'heraldboxasidereviewst-game-review', 'category-linecolumnt-answerman', 'options-menurequires-javascript', 'comments', 'newsmenu', 'sicon', 'skin-mode-0mobile-mode-0gutter-mode-2sidebar-mode-1menu-mode-0grid-mode-3grid-mode-not-1js-offdesktop-devicetouch-mode-0', 'boxiabside', 'forummenu', 'category-linereviewst-game-review', 'byline', 'forum', 'rightsidegutter', 'newanime', 'minimize-officon', 'heraldboxasidereviewst-review', 'social_logintwitter', 'social_loginfacebook', 'newsfront', 'time-posted', 'full', 'content', 'encycmenu', 'header-button', 'header-buttoninstagram', 'header-buttonreport', 'en-Wphp-css', 'IN', 'blocklogin', 'dropdownbutton', 'category-linecontestt-giveaway', 'login', 'overlay'}\n"
     ]
    }
   ],
   "source": [
    "import requests\n",
    "from bs4 import BeautifulSoup\n",
    "#from pprint import print\n",
    "\n",
    "url='https://metmuseum.github.io/'\n",
    "\n",
    "data =requests.get(url)\n",
    "print(data.status_code)\n",
    "\n",
    "#obtiene todos los links de la pagina web\n",
    "soup=BeautifulSoup(data.text,'html.parser')\n",
    "\n",
    "urls=[]\n",
    "for link in soup.find_all('a'):\n",
    "\tprint(link.get('href'))\n",
    "\turls.append(link.get('href'))\n",
    "\n",
    "\n",
    "url='https://www.animenewsnetwork.com/encyclopedia/api.php'\n",
    "response = requests.get(url)\n",
    "soup = BeautifulSoup(response.content, 'html.parser')\n",
    "\n",
    "# obtiene todos los encabezados\n",
    "encabezados = soup.find_all(['h1', 'h2', 'h3', 'h4', 'h5', 'h6'])\n",
    "\n",
    "lista_encabezados = []\n",
    "for encabezado in encabezados:\n",
    "    lista_encabezados.append(encabezado.text.strip())\n",
    "\n",
    "print(lista_encabezados)\n",
    "      \n",
    "\n",
    "#imprimir las clases\n",
    "class_list =set()\n",
    "tags={tag.name for tag in soup.find_all()}\n",
    "\n",
    "for tag in tags:\n",
    "\tfor i in soup.find_all(tag):\n",
    "\t\tif i.has_attr(\"class\"):\n",
    "\t\t\tif len(i['class'])!=0:\n",
    "\t\t\t\tclass_list.add(\"\".join(i['class']))\n",
    "\n",
    "print(class_list)\n",
    "\n"
   ]
  }
 ],
 "metadata": {
  "kernelspec": {
   "display_name": "your_virtual_environment",
   "language": "python",
   "name": "python3"
  },
  "language_info": {
   "codemirror_mode": {
    "name": "ipython",
    "version": 3
   },
   "file_extension": ".py",
   "mimetype": "text/x-python",
   "name": "python",
   "nbconvert_exporter": "python",
   "pygments_lexer": "ipython3",
   "version": "3.12.0"
  }
 },
 "nbformat": 4,
 "nbformat_minor": 5
}
